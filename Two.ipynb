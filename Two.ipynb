{
 "cells": [
  {
   "cell_type": "code",
   "execution_count": 2,
   "metadata": {},
   "outputs": [],
   "source": [
    "import numpy as np \n",
    "import pickle\n",
    "import itertools\n",
    "import pandas as pd\n",
    "from sklearn.model_selection import train_test_split\n",
    "import matplotlib.pyplot as plt\n",
    "from sklearn.metrics import accuracy_score, confusion_matrix\n",
    "from sklearn.model_selection import train_test_split\n",
    "from sklearn.ensemble import RandomForestClassifier\n",
    "from sklearn.neighbors import KNeighborsClassifier\n",
    "from sklearn.tree import DecisionTreeClassifier\n",
    "from sklearn.metrics import accuracy_score\n",
    "import numpy as np\n",
    "import pandas as pd"
   ]
  },
  {
   "cell_type": "code",
   "execution_count": 3,
   "metadata": {},
   "outputs": [
    {
     "data": {
      "text/plain": [
       "0       9\n",
       "1       9\n",
       "2       9\n",
       "3       9\n",
       "4       9\n",
       "       ..\n",
       "5552    4\n",
       "5553    4\n",
       "5554    4\n",
       "5555    4\n",
       "5556    4\n",
       "Name: labels, Length: 5557, dtype: int32"
      ]
     },
     "execution_count": 3,
     "metadata": {},
     "output_type": "execute_result"
    }
   ],
   "source": [
    "import pandas as pd\n",
    "from sklearn.preprocessing import LabelEncoder, StandardScaler\n",
    "from sklearn.decomposition import PCA\n",
    "\n",
    "data = pd.read_csv('D:\\AI\\Project\\Dataset\\Zeros_Ones.csv') \n",
    "\n",
    "import pandas as pd\n",
    "from sklearn.preprocessing import LabelEncoder, StandardScaler\n",
    "from sklearn.decomposition import PCA\n",
    "\n",
    "data = pd.read_csv('D:\\AI\\Project\\Dataset\\Zeros_Ones.csv') \n",
    "\n",
    "data.loc[data['labels']=='teardrop', 'labels'] = 'teardrop attack'\n",
    "data.loc[data['labels']=='neptune', 'labels'] = 'neptune attack'\n",
    "data.loc[data['labels']=='smurf', 'labels'] = 'smurf attack'\n",
    "data.loc[data['labels']=='back', 'labels'] = 'back attack'\n",
    "data.loc[data['labels']=='warezclient', 'labels'] = 'wazerclient attack'\n",
    "data.loc[data['labels']=='ipsweep', 'labels'] = 'ipsweep attack'\n",
    "data.loc[data['labels']=='portsweep', 'labels'] = 'portsweep attack'\n",
    "data.loc[data['labels']=='satan', 'labels'] = 'satan attack'\n",
    "data.loc[data['labels']=='guess_passwd', 'labels'] = 'guesspassword attack'\n",
    "data.loc[data['labels']=='labels', 'labels'] = 'normal behaviour'\n",
    "\n",
    "\n",
    "\n",
    "\n",
    "label_encoder = LabelEncoder()\n",
    "data_encoded = data.apply(label_encoder.fit_transform)\n",
    "\n",
    "X = data_encoded.drop('labels', axis=1) \n",
    "y = data_encoded['labels'] \n",
    "data\n",
    "y\n",
    "\n",
    "\n",
    "\n",
    "\n",
    "label_encoder = LabelEncoder()\n",
    "data_encoded = data.apply(label_encoder.fit_transform)\n",
    "\n",
    "X = data_encoded.drop('labels', axis=1) \n",
    "y = data_encoded['labels'] \n",
    "data\n",
    "y"
   ]
  },
  {
   "cell_type": "code",
   "execution_count": 4,
   "metadata": {},
   "outputs": [
    {
     "data": {
      "text/plain": [
       "0       wazerclient attack\n",
       "1       wazerclient attack\n",
       "2       wazerclient attack\n",
       "3       wazerclient attack\n",
       "4       wazerclient attack\n",
       "               ...        \n",
       "5552                normal\n",
       "5553                normal\n",
       "5554                normal\n",
       "5555                normal\n",
       "5556                normal\n",
       "Name: labels, Length: 5557, dtype: object"
      ]
     },
     "execution_count": 4,
     "metadata": {},
     "output_type": "execute_result"
    }
   ],
   "source": [
    "label_encoder = LabelEncoder()\n",
    "data_encoded = data.apply(label_encoder.fit_transform)\n",
    "\n",
    "X = data_encoded.drop('labels', axis=1) \n",
    "y = data_encoded['labels']  \n",
    "\n",
    "from sklearn.preprocessing import LabelEncoder\n",
    "\n",
    "from sklearn.preprocessing import StandardScaler\n",
    "\n",
    "\n",
    "\n",
    "le=LabelEncoder()\n",
    "\n",
    "y = data['labels']\n",
    "X = data.drop(columns=['labels'])\n",
    "selected_features = ['duration', 'dst_bytes', 'src_bytes', 'is_guest_login', 'is_host_login', 'diff_srv_rate', 'srv_diff_host_rate', 'flag', 'protocol_type']\n",
    "X = X[selected_features]\n",
    "X['protocol_type']=le.fit_transform(X['protocol_type'].astype(\"str\"))\n",
    "X['flag']=le.fit_transform(X['flag'].astype(\"str\"))\n",
    "# X['flag'].value_counts() \n",
    "y\n",
    "# SF      3069\n",
    "# REJ     1500\n",
    "# RSTR     716\n",
    "# RSTO     168\n",
    "# S0        96\n",
    "# S1         8"
   ]
  },
  {
   "cell_type": "code",
   "execution_count": 5,
   "metadata": {},
   "outputs": [
    {
     "name": "stdout",
     "output_type": "stream",
     "text": [
      "Nine Principal Components:\n",
      "[[-1.53177753e+00 -7.49609481e-01  5.33559687e-01 ...  7.06540051e-01\n",
      "   5.98964479e-01 -5.76848290e-16]\n",
      " [ 1.38471243e+00 -8.99173905e-01 -1.79006363e-01 ...  7.04278184e-01\n",
      "   3.04612698e-01 -1.01982120e-16]\n",
      " [-1.49346890e+00 -8.34345726e-01 -4.66522968e-01 ...  2.34985383e-01\n",
      "   5.43090836e-01 -1.29045785e-16]\n",
      " ...\n",
      " [-1.20661400e+00 -4.45301531e-02 -2.40627408e+00 ...  2.30780187e-01\n",
      "   5.95047489e-01  4.34947107e-17]\n",
      " [ 1.61067967e+00 -1.47229032e-01 -2.31878500e+00 ...  2.84167138e-01\n",
      "   5.76826823e-01  3.48845412e-17]\n",
      " [-1.20660965e+00 -4.45174508e-02 -2.40627782e+00 ...  2.30810135e-01\n",
      "   5.95042937e-01  6.68802747e-17]]\n",
      "Index(['duration', 'dst_bytes', 'src_bytes', 'is_guest_login', 'is_host_login',\n",
      "       'diff_srv_rate', 'srv_diff_host_rate', 'flag', 'protocol_type'],\n",
      "      dtype='object')\n"
     ]
    }
   ],
   "source": [
    "scaler = StandardScaler()\n",
    "X_scaled = scaler.fit_transform(X)\n",
    "\n",
    "# Step 5: Perform PCA with 9 principal components\n",
    "pca = PCA(n_components=9)\n",
    "X_pca = pca.fit_transform(X_scaled)\n",
    "\n",
    "# Step 6: Print the 9 principal components\n",
    "print(\"Nine Principal Components:\")\n",
    "print(X_pca)\n",
    "attribute_names = X.columns\n",
    "print(attribute_names[:9]) \n"
   ]
  },
  {
   "cell_type": "code",
   "execution_count": 6,
   "metadata": {},
   "outputs": [
    {
     "name": "stdout",
     "output_type": "stream",
     "text": [
      "(3889, 9)\n",
      "(1668, 9)\n"
     ]
    }
   ],
   "source": [
    "from sklearn.model_selection import train_test_split\n",
    "X_train, X_test, y_train, y_test = train_test_split(X, y, test_size=0.3, random_state=9)\n",
    "print(X_train.shape)\n",
    "print(X_test.shape)"
   ]
  },
  {
   "cell_type": "code",
   "execution_count": 7,
   "metadata": {},
   "outputs": [
    {
     "name": "stdout",
     "output_type": "stream",
     "text": [
      "Accuracy: 0.9850119904076738\n"
     ]
    }
   ],
   "source": [
    "base_classifiers = [\n",
    "    ('decision_tree', DecisionTreeClassifier()),\n",
    "    ('knn', KNeighborsClassifier(n_neighbors=1)),\n",
    "]\n",
    "\n",
    "from sklearn.ensemble import StackingClassifier\n",
    "\n",
    "stacking_classifier = StackingClassifier(\n",
    "    estimators=base_classifiers,\n",
    "    final_estimator=RandomForestClassifier(n_estimators =12, random_state=6) \n",
    ")\n",
    "\n",
    "stacking_classifier.fit(X_train, y_train)\n",
    "\n",
    "y_pred = stacking_classifier.predict(X_test)\n",
    "\n",
    "accuracy = accuracy_score(y_test, y_pred)\n",
    "print(\"Accuracy:\", accuracy)\n",
    "# cm = confusion_matrix(y_test, y_pred)\n",
    "# cm"
   ]
  },
  {
   "cell_type": "code",
   "execution_count": 8,
   "metadata": {},
   "outputs": [
    {
     "name": "stdout",
     "output_type": "stream",
     "text": [
      "                      precision    recall  f1-score   support\n",
      "\n",
      "         back attack       1.00      1.00      1.00        51\n",
      "guesspassword attack       1.00      1.00      1.00        16\n",
      "      ipsweep attack       0.98      0.97      0.97       241\n",
      "      neptune attack       1.00      0.98      0.99       168\n",
      "              normal       0.98      0.98      0.98       215\n",
      "    portsweep attack       0.98      0.99      0.98       334\n",
      "        satan attack       0.98      1.00      0.99       195\n",
      "        smurf attack       1.00      0.97      0.98       120\n",
      "     teardrop attack       0.99      1.00      1.00       173\n",
      "  wazerclient attack       0.97      1.00      0.99       155\n",
      "\n",
      "            accuracy                           0.99      1668\n",
      "           macro avg       0.99      0.99      0.99      1668\n",
      "        weighted avg       0.99      0.99      0.98      1668\n",
      "\n"
     ]
    }
   ],
   "source": [
    "import sklearn.metrics\n",
    "\n",
    "print(sklearn.metrics.classification_report(y_test, y_pred))"
   ]
  },
  {
   "cell_type": "code",
   "execution_count": 9,
   "metadata": {},
   "outputs": [],
   "source": [
    "import pickle\n",
    "\n",
    "pickle.dump(stacking_classifier,open('stacking.pkl','wb'))\n",
    "\n",
    "pickle.dump(pca, open('principal.pkl', 'wb'))"
   ]
  },
  {
   "cell_type": "code",
   "execution_count": 10,
   "metadata": {},
   "outputs": [
    {
     "data": {
      "image/png": "[encoded data removed]",
      "text/plain": [
       "<Figure size 400x400 with 1 Axes>"
      ]
     },
     "metadata": {},
     "output_type": "display_data"
    }
   ],
   "source": [
    "import matplotlib.pyplot as plt\n",
    "\n",
    "algorithms = ['Decision Trees', 'KNN', 'Random Forest', 'MetaModel']\n",
    "\n",
    "accuracy_scores = [0.89, 0.9790, 0.9807, accuracy]\n",
    "\n",
    "colors = ['lightblue' if algo != 'MetaModel' else 'skyblue' for algo in algorithms]\n",
    "plt.figure(figsize=(4, 4))\n",
    "bars = plt.bar(algorithms, accuracy_scores, color=colors, width=0.4)\n",
    "\n",
    "plt.title('Accuracy of Different Algorithms')\n",
    "plt.xlabel('Algorithms')\n",
    "plt.ylabel('Accuracy (%)')  \n",
    "\n",
    "\n",
    "\n",
    "plt.xticks(rotation=45)  \n",
    "plt.ylim(0, 1.2)  \n",
    "\n",
    "for bar, score in zip(bars, accuracy_scores):\n",
    "    plt.text(bar.get_x() + bar.get_width() / 2, bar.get_height(), f'{score*100:.2f}%', ha='center', va='bottom')\n",
    "\n",
    "plt.tight_layout() \n",
    "plt.show()\n"
   ]
  },
  {
   "cell_type": "code",
   "execution_count": 11,
   "metadata": {},
   "outputs": [
    {
     "data": {
      "text/html": [
       "<div>\n",
       "<style scoped>\n",
       "    .dataframe tbody tr th:only-of-type {\n",
       "        vertical-align: middle;\n",
       "    }\n",
       "\n",
       "    .dataframe tbody tr th {\n",
       "        vertical-align: top;\n",
       "    }\n",
       "\n",
       "    .dataframe thead th {\n",
       "        text-align: right;\n",
       "    }\n",
       "</style>\n",
       "<table border=\"1\" class=\"dataframe\">\n",
       "  <thead>\n",
       "    <tr style=\"text-align: right;\">\n",
       "      <th></th>\n",
       "      <th>Mertics</th>\n",
       "      <th>back attack</th>\n",
       "      <th>guesspassword attack</th>\n",
       "      <th>ipsweep attack</th>\n",
       "      <th>neptune attack</th>\n",
       "      <th>normal</th>\n",
       "      <th>portsweep attack</th>\n",
       "      <th>satan attack</th>\n",
       "      <th>smurf attack</th>\n",
       "      <th>teardrop attack</th>\n",
       "      <th>wazerclient attack</th>\n",
       "    </tr>\n",
       "  </thead>\n",
       "  <tbody>\n",
       "    <tr>\n",
       "      <th>0</th>\n",
       "      <td>precision</td>\n",
       "      <td>1.0</td>\n",
       "      <td>1.0</td>\n",
       "      <td>0.98</td>\n",
       "      <td>0.98</td>\n",
       "      <td>1.00</td>\n",
       "      <td>0.98</td>\n",
       "      <td>1.0</td>\n",
       "      <td>1.00</td>\n",
       "      <td>0.99</td>\n",
       "      <td>0.97</td>\n",
       "    </tr>\n",
       "    <tr>\n",
       "      <th>1</th>\n",
       "      <td>recall</td>\n",
       "      <td>1.0</td>\n",
       "      <td>1.0</td>\n",
       "      <td>0.98</td>\n",
       "      <td>0.98</td>\n",
       "      <td>0.98</td>\n",
       "      <td>0.99</td>\n",
       "      <td>1.0</td>\n",
       "      <td>0.97</td>\n",
       "      <td>1.00</td>\n",
       "      <td>1.00</td>\n",
       "    </tr>\n",
       "    <tr>\n",
       "      <th>2</th>\n",
       "      <td>f1-score</td>\n",
       "      <td>1.0</td>\n",
       "      <td>1.0</td>\n",
       "      <td>0.98</td>\n",
       "      <td>0.98</td>\n",
       "      <td>0.99</td>\n",
       "      <td>0.98</td>\n",
       "      <td>1.0</td>\n",
       "      <td>0.98</td>\n",
       "      <td>1.00</td>\n",
       "      <td>0.99</td>\n",
       "    </tr>\n",
       "  </tbody>\n",
       "</table>\n",
       "</div>"
      ],
      "text/plain": [
       "     Mertics  back attack  guesspassword attack  ipsweep attack  \\\n",
       "0  precision          1.0                   1.0            0.98   \n",
       "1     recall          1.0                   1.0            0.98   \n",
       "2   f1-score          1.0                   1.0            0.98   \n",
       "\n",
       "   neptune attack  normal  portsweep attack  satan attack  smurf attack  \\\n",
       "0            0.98    1.00              0.98           1.0          1.00   \n",
       "1            0.98    0.98              0.99           1.0          0.97   \n",
       "2            0.98    0.99              0.98           1.0          0.98   \n",
       "\n",
       "   teardrop attack  wazerclient attack  \n",
       "0             0.99                0.97  \n",
       "1             1.00                1.00  \n",
       "2             1.00                0.99  "
      ]
     },
     "execution_count": 11,
     "metadata": {},
     "output_type": "execute_result"
    }
   ],
   "source": [
    "import pandas as pd\n",
    "\n",
    "# Sample data\n",
    "data = {'Mertics' : ['precision', 'recall', 'f1-score'],\n",
    "    'back attack': [1.00, 1.00, 1.00],\n",
    "        'guesspassword attack': [1.00, 1.00, 1.00],\n",
    "        'ipsweep attack': [0.98, 0.98, 0.98],\n",
    "        'neptune attack': [0.98, 0.98, 0.98],\n",
    "        'normal': [1.00, 0.98, 0.99],\n",
    "        'portsweep attack': [0.98, 0.99, 0.98],\n",
    "        'satan attack': [1.00, 1.00, 1.00],\n",
    "        'smurf attack': [1.00, 0.97, 0.98],\n",
    "        'teardrop attack': [0.99, 1.00, 1.00],\n",
    "        'wazerclient attack': [0.97, 1.00, 0.99]\n",
    "}\n",
    "\n",
    "# Creating DataFrame\n",
    "df = pd.DataFrame(data, index = None)\n",
    "\n",
    "# Displaying DataFrame\n",
    "df\n"
   ]
  },
  {
   "cell_type": "code",
   "execution_count": 12,
   "metadata": {},
   "outputs": [
    {
     "data": {
      "text/html": [
       "<div>\n",
       "<style scoped>\n",
       "    .dataframe tbody tr th:only-of-type {\n",
       "        vertical-align: middle;\n",
       "    }\n",
       "\n",
       "    .dataframe tbody tr th {\n",
       "        vertical-align: top;\n",
       "    }\n",
       "\n",
       "    .dataframe thead th {\n",
       "        text-align: right;\n",
       "    }\n",
       "</style>\n",
       "<table border=\"1\" class=\"dataframe\">\n",
       "  <thead>\n",
       "    <tr style=\"text-align: right;\">\n",
       "      <th></th>\n",
       "      <th>algorithms</th>\n",
       "      <th>accuracy_scores</th>\n",
       "    </tr>\n",
       "  </thead>\n",
       "  <tbody>\n",
       "    <tr>\n",
       "      <th>0</th>\n",
       "      <td>Decision Trees</td>\n",
       "      <td>89.000000</td>\n",
       "    </tr>\n",
       "    <tr>\n",
       "      <th>1</th>\n",
       "      <td>KNN</td>\n",
       "      <td>97.900000</td>\n",
       "    </tr>\n",
       "    <tr>\n",
       "      <th>2</th>\n",
       "      <td>Random Forest</td>\n",
       "      <td>98.070000</td>\n",
       "    </tr>\n",
       "    <tr>\n",
       "      <th>3</th>\n",
       "      <td>&lt;b&gt;MetaModel&lt;/b&gt;</td>\n",
       "      <td>98.501199</td>\n",
       "    </tr>\n",
       "  </tbody>\n",
       "</table>\n",
       "</div>"
      ],
      "text/plain": [
       "         algorithms  accuracy_scores\n",
       "0    Decision Trees        89.000000\n",
       "1               KNN        97.900000\n",
       "2     Random Forest        98.070000\n",
       "3  <b>MetaModel</b>        98.501199"
      ]
     },
     "execution_count": 12,
     "metadata": {},
     "output_type": "execute_result"
    }
   ],
   "source": [
    "import pandas as pd\n",
    "\n",
    "# Sample data\n",
    "data = {\n",
    "    'algorithms' : ['Decision Trees', 'KNN', 'Random Forest','<b>MetaModel</b>'],\n",
    "\n",
    "'accuracy_scores' : [89, 97.90, 98.07, accuracy*100]\n",
    "}\n",
    "\n",
    "# Creating DataFrame without the default index column\n",
    "df = pd.DataFrame(data)\n",
    "\n",
    "# Displaying DataFrame\n",
    "df\n"
   ]
  },
  {
   "cell_type": "code",
   "execution_count": 13,
   "metadata": {},
   "outputs": [
    {
     "data": {
      "text/html": [
       "<style type=\"text/css\">\n",
       "</style>\n",
       "<table id=\"T_3f00a\">\n",
       "  <thead>\n",
       "    <tr>\n",
       "      <th class=\"blank level0\" >&nbsp;</th>\n",
       "      <th id=\"T_3f00a_level0_col0\" class=\"col_heading level0 col0\" >algorithms</th>\n",
       "      <th id=\"T_3f00a_level0_col1\" class=\"col_heading level0 col1\" >accuracy_scores</th>\n",
       "    </tr>\n",
       "  </thead>\n",
       "  <tbody>\n",
       "    <tr>\n",
       "      <th id=\"T_3f00a_level0_row0\" class=\"row_heading level0 row0\" >0</th>\n",
       "      <td id=\"T_3f00a_row0_col0\" class=\"data row0 col0\" >Decision Trees</td>\n",
       "      <td id=\"T_3f00a_row0_col1\" class=\"data row0 col1\" >89.00%</td>\n",
       "    </tr>\n",
       "    <tr>\n",
       "      <th id=\"T_3f00a_level0_row1\" class=\"row_heading level0 row1\" >1</th>\n",
       "      <td id=\"T_3f00a_row1_col0\" class=\"data row1 col0\" >KNN</td>\n",
       "      <td id=\"T_3f00a_row1_col1\" class=\"data row1 col1\" >97.90%</td>\n",
       "    </tr>\n",
       "    <tr>\n",
       "      <th id=\"T_3f00a_level0_row2\" class=\"row_heading level0 row2\" >2</th>\n",
       "      <td id=\"T_3f00a_row2_col0\" class=\"data row2 col0\" >Random Forest</td>\n",
       "      <td id=\"T_3f00a_row2_col1\" class=\"data row2 col1\" >98.07%</td>\n",
       "    </tr>\n",
       "    <tr>\n",
       "      <th id=\"T_3f00a_level0_row3\" class=\"row_heading level0 row3\" >3</th>\n",
       "      <td id=\"T_3f00a_row3_col0\" class=\"data row3 col0\" ><b>MetaModel</b></td>\n",
       "      <td id=\"T_3f00a_row3_col1\" class=\"data row3 col1\" >98.50%</td>\n",
       "    </tr>\n",
       "  </tbody>\n",
       "</table>\n"
      ],
      "text/plain": [
       "<pandas.io.formats.style.Styler at 0x282372cf350>"
      ]
     },
     "metadata": {},
     "output_type": "display_data"
    }
   ],
   "source": [
    "import pandas as pd\n",
    "\n",
    "# Sample data\n",
    "data = {\n",
    "    'algorithms': ['Decision Trees', 'KNN', 'Random Forest', '<b>MetaModel</b>'],\n",
    "    'accuracy_scores': [89, 97.90, 98.07, accuracy * 100]\n",
    "}\n",
    "\n",
    "# Creating DataFrame without the default index column\n",
    "df = pd.DataFrame(data)\n",
    "\n",
    "# Displaying DataFrame with MetaModel text bolded\n",
    "from IPython.display import display\n",
    "display(df.style.format({'accuracy_scores': '{:.2f}%'}))\n"
   ]
  },
  {
   "cell_type": "code",
   "execution_count": 14,
   "metadata": {},
   "outputs": [
    {
     "data": {
      "text/html": [
       "<style>#sk-container-id-1 {color: black;background-color: white;}#sk-container-id-1 pre{padding: 0;}#sk-container-id-1 div.sk-toggleable {background-color: white;}#sk-container-id-1 label.sk-toggleable__label {cursor: pointer;display: block;width: 100%;margin-bottom: 0;padding: 0.3em;box-sizing: border-box;text-align: center;}#sk-container-id-1 label.sk-toggleable__label-arrow:before {content: \"▸\";float: left;margin-right: 0.25em;color: #696969;}#sk-container-id-1 label.sk-toggleable__label-arrow:hover:before {color: black;}#sk-container-id-1 div.sk-estimator:hover label.sk-toggleable__label-arrow:before {color: black;}#sk-container-id-1 div.sk-toggleable__content {max-height: 0;max-width: 0;overflow: hidden;text-align: left;background-color: #f0f8ff;}#sk-container-id-1 div.sk-toggleable__content pre {margin: 0.2em;color: black;border-radius: 0.25em;background-color: #f0f8ff;}#sk-container-id-1 input.sk-toggleable__control:checked~div.sk-toggleable__content {max-height: 200px;max-width: 100%;overflow: auto;}#sk-container-id-1 input.sk-toggleable__control:checked~label.sk-toggleable__label-arrow:before {content: \"▾\";}#sk-container-id-1 div.sk-estimator input.sk-toggleable__control:checked~label.sk-toggleable__label {background-color: #d4ebff;}#sk-container-id-1 div.sk-label input.sk-toggleable__control:checked~label.sk-toggleable__label {background-color: #d4ebff;}#sk-container-id-1 input.sk-hidden--visually {border: 0;clip: rect(1px 1px 1px 1px);clip: rect(1px, 1px, 1px, 1px);height: 1px;margin: -1px;overflow: hidden;padding: 0;position: absolute;width: 1px;}#sk-container-id-1 div.sk-estimator {font-family: monospace;background-color: #f0f8ff;border: 1px dotted black;border-radius: 0.25em;box-sizing: border-box;margin-bottom: 0.5em;}#sk-container-id-1 div.sk-estimator:hover {background-color: #d4ebff;}#sk-container-id-1 div.sk-parallel-item::after {content: \"\";width: 100%;border-bottom: 1px solid gray;flex-grow: 1;}#sk-container-id-1 div.sk-label:hover label.sk-toggleable__label {background-color: #d4ebff;}#sk-container-id-1 div.sk-serial::before {content: \"\";position: absolute;border-left: 1px solid gray;box-sizing: border-box;top: 0;bottom: 0;left: 50%;z-index: 0;}#sk-container-id-1 div.sk-serial {display: flex;flex-direction: column;align-items: center;background-color: white;padding-right: 0.2em;padding-left: 0.2em;position: relative;}#sk-container-id-1 div.sk-item {position: relative;z-index: 1;}#sk-container-id-1 div.sk-parallel {display: flex;align-items: stretch;justify-content: center;background-color: white;position: relative;}#sk-container-id-1 div.sk-item::before, #sk-container-id-1 div.sk-parallel-item::before {content: \"\";position: absolute;border-left: 1px solid gray;box-sizing: border-box;top: 0;bottom: 0;left: 50%;z-index: -1;}#sk-container-id-1 div.sk-parallel-item {display: flex;flex-direction: column;z-index: 1;position: relative;background-color: white;}#sk-container-id-1 div.sk-parallel-item:first-child::after {align-self: flex-end;width: 50%;}#sk-container-id-1 div.sk-parallel-item:last-child::after {align-self: flex-start;width: 50%;}#sk-container-id-1 div.sk-parallel-item:only-child::after {width: 0;}#sk-container-id-1 div.sk-dashed-wrapped {border: 1px dashed gray;margin: 0 0.4em 0.5em 0.4em;box-sizing: border-box;padding-bottom: 0.4em;background-color: white;}#sk-container-id-1 div.sk-label label {font-family: monospace;font-weight: bold;display: inline-block;line-height: 1.2em;}#sk-container-id-1 div.sk-label-container {text-align: center;}#sk-container-id-1 div.sk-container {/* jupyter's `normalize.less` sets `[hidden] { display: none; }` but bootstrap.min.css set `[hidden] { display: none !important; }` so we also need the `!important` here to be able to override the default hidden behavior on the sphinx rendered scikit-learn.org. See: https://github.com/scikit-learn/scikit-learn/issues/21755 */display: inline-block !important;position: relative;}#sk-container-id-1 div.sk-text-repr-fallback {display: none;}</style><div id=\"sk-container-id-1\" class=\"sk-top-container\"><div class=\"sk-text-repr-fallback\"><pre>KNeighborsClassifier(n_neighbors=6)</pre><b>In a Jupyter environment, please rerun this cell to show the HTML representation or trust the notebook. <br />On GitHub, the HTML representation is unable to render, please try loading this page with nbviewer.org.</b></div><div class=\"sk-container\" hidden><div class=\"sk-item\"><div class=\"sk-estimator sk-toggleable\"><input class=\"sk-toggleable__control sk-hidden--visually\" id=\"sk-estimator-id-1\" type=\"checkbox\" checked><label for=\"sk-estimator-id-1\" class=\"sk-toggleable__label sk-toggleable__label-arrow\">KNeighborsClassifier</label><div class=\"sk-toggleable__content\"><pre>KNeighborsClassifier(n_neighbors=6)</pre></div></div></div></div></div>"
      ],
      "text/plain": [
       "KNeighborsClassifier(n_neighbors=6)"
      ]
     },
     "execution_count": 14,
     "metadata": {},
     "output_type": "execute_result"
    }
   ],
   "source": [
    "from sklearn.neighbors import KNeighborsClassifier\n",
    "knn = KNeighborsClassifier(n_neighbors=6)\n",
    "knn.fit(X_train, y_train)"
   ]
  },
  {
   "cell_type": "code",
   "execution_count": 15,
   "metadata": {},
   "outputs": [
    {
     "name": "stdout",
     "output_type": "stream",
     "text": [
      "                      precision    recall  f1-score   support\n",
      "\n",
      "         back attack       1.00      1.00      1.00        51\n",
      "guesspassword attack       1.00      1.00      1.00        16\n",
      "      ipsweep attack       0.98      0.97      0.97       241\n",
      "      neptune attack       1.00      0.98      0.99       168\n",
      "              normal       0.98      0.98      0.98       215\n",
      "    portsweep attack       0.98      0.99      0.98       334\n",
      "        satan attack       0.98      1.00      0.99       195\n",
      "        smurf attack       1.00      0.97      0.98       120\n",
      "     teardrop attack       0.99      1.00      1.00       173\n",
      "  wazerclient attack       0.97      1.00      0.99       155\n",
      "\n",
      "            accuracy                           0.99      1668\n",
      "           macro avg       0.99      0.99      0.99      1668\n",
      "        weighted avg       0.99      0.99      0.98      1668\n",
      "\n"
     ]
    }
   ],
   "source": [
    "import sklearn.metrics\n",
    "print(sklearn.metrics.classification_report(y_test, y_pred))"
   ]
  },
  {
   "cell_type": "code",
   "execution_count": 16,
   "metadata": {},
   "outputs": [
    {
     "data": {
      "text/html": [
       "<style>#sk-container-id-2 {color: black;background-color: white;}#sk-container-id-2 pre{padding: 0;}#sk-container-id-2 div.sk-toggleable {background-color: white;}#sk-container-id-2 label.sk-toggleable__label {cursor: pointer;display: block;width: 100%;margin-bottom: 0;padding: 0.3em;box-sizing: border-box;text-align: center;}#sk-container-id-2 label.sk-toggleable__label-arrow:before {content: \"▸\";float: left;margin-right: 0.25em;color: #696969;}#sk-container-id-2 label.sk-toggleable__label-arrow:hover:before {color: black;}#sk-container-id-2 div.sk-estimator:hover label.sk-toggleable__label-arrow:before {color: black;}#sk-container-id-2 div.sk-toggleable__content {max-height: 0;max-width: 0;overflow: hidden;text-align: left;background-color: #f0f8ff;}#sk-container-id-2 div.sk-toggleable__content pre {margin: 0.2em;color: black;border-radius: 0.25em;background-color: #f0f8ff;}#sk-container-id-2 input.sk-toggleable__control:checked~div.sk-toggleable__content {max-height: 200px;max-width: 100%;overflow: auto;}#sk-container-id-2 input.sk-toggleable__control:checked~label.sk-toggleable__label-arrow:before {content: \"▾\";}#sk-container-id-2 div.sk-estimator input.sk-toggleable__control:checked~label.sk-toggleable__label {background-color: #d4ebff;}#sk-container-id-2 div.sk-label input.sk-toggleable__control:checked~label.sk-toggleable__label {background-color: #d4ebff;}#sk-container-id-2 input.sk-hidden--visually {border: 0;clip: rect(1px 1px 1px 1px);clip: rect(1px, 1px, 1px, 1px);height: 1px;margin: -1px;overflow: hidden;padding: 0;position: absolute;width: 1px;}#sk-container-id-2 div.sk-estimator {font-family: monospace;background-color: #f0f8ff;border: 1px dotted black;border-radius: 0.25em;box-sizing: border-box;margin-bottom: 0.5em;}#sk-container-id-2 div.sk-estimator:hover {background-color: #d4ebff;}#sk-container-id-2 div.sk-parallel-item::after {content: \"\";width: 100%;border-bottom: 1px solid gray;flex-grow: 1;}#sk-container-id-2 div.sk-label:hover label.sk-toggleable__label {background-color: #d4ebff;}#sk-container-id-2 div.sk-serial::before {content: \"\";position: absolute;border-left: 1px solid gray;box-sizing: border-box;top: 0;bottom: 0;left: 50%;z-index: 0;}#sk-container-id-2 div.sk-serial {display: flex;flex-direction: column;align-items: center;background-color: white;padding-right: 0.2em;padding-left: 0.2em;position: relative;}#sk-container-id-2 div.sk-item {position: relative;z-index: 1;}#sk-container-id-2 div.sk-parallel {display: flex;align-items: stretch;justify-content: center;background-color: white;position: relative;}#sk-container-id-2 div.sk-item::before, #sk-container-id-2 div.sk-parallel-item::before {content: \"\";position: absolute;border-left: 1px solid gray;box-sizing: border-box;top: 0;bottom: 0;left: 50%;z-index: -1;}#sk-container-id-2 div.sk-parallel-item {display: flex;flex-direction: column;z-index: 1;position: relative;background-color: white;}#sk-container-id-2 div.sk-parallel-item:first-child::after {align-self: flex-end;width: 50%;}#sk-container-id-2 div.sk-parallel-item:last-child::after {align-self: flex-start;width: 50%;}#sk-container-id-2 div.sk-parallel-item:only-child::after {width: 0;}#sk-container-id-2 div.sk-dashed-wrapped {border: 1px dashed gray;margin: 0 0.4em 0.5em 0.4em;box-sizing: border-box;padding-bottom: 0.4em;background-color: white;}#sk-container-id-2 div.sk-label label {font-family: monospace;font-weight: bold;display: inline-block;line-height: 1.2em;}#sk-container-id-2 div.sk-label-container {text-align: center;}#sk-container-id-2 div.sk-container {/* jupyter's `normalize.less` sets `[hidden] { display: none; }` but bootstrap.min.css set `[hidden] { display: none !important; }` so we also need the `!important` here to be able to override the default hidden behavior on the sphinx rendered scikit-learn.org. See: https://github.com/scikit-learn/scikit-learn/issues/21755 */display: inline-block !important;position: relative;}#sk-container-id-2 div.sk-text-repr-fallback {display: none;}</style><div id=\"sk-container-id-2\" class=\"sk-top-container\"><div class=\"sk-text-repr-fallback\"><pre>DecisionTreeClassifier()</pre><b>In a Jupyter environment, please rerun this cell to show the HTML representation or trust the notebook. <br />On GitHub, the HTML representation is unable to render, please try loading this page with nbviewer.org.</b></div><div class=\"sk-container\" hidden><div class=\"sk-item\"><div class=\"sk-estimator sk-toggleable\"><input class=\"sk-toggleable__control sk-hidden--visually\" id=\"sk-estimator-id-2\" type=\"checkbox\" checked><label for=\"sk-estimator-id-2\" class=\"sk-toggleable__label sk-toggleable__label-arrow\">DecisionTreeClassifier</label><div class=\"sk-toggleable__content\"><pre>DecisionTreeClassifier()</pre></div></div></div></div></div>"
      ],
      "text/plain": [
       "DecisionTreeClassifier()"
      ]
     },
     "execution_count": 16,
     "metadata": {},
     "output_type": "execute_result"
    }
   ],
   "source": [
    "from sklearn.tree import DecisionTreeClassifier\n",
    "tree =  DecisionTreeClassifier()\n",
    "tree.fit(X_train, y_train)"
   ]
  },
  {
   "cell_type": "code",
   "execution_count": 17,
   "metadata": {},
   "outputs": [
    {
     "name": "stdout",
     "output_type": "stream",
     "text": [
      "                      precision    recall  f1-score   support\n",
      "\n",
      "         back attack       1.00      1.00      1.00        51\n",
      "guesspassword attack       1.00      1.00      1.00        16\n",
      "      ipsweep attack       0.98      0.97      0.97       241\n",
      "      neptune attack       1.00      0.98      0.99       168\n",
      "              normal       0.98      0.98      0.98       215\n",
      "    portsweep attack       0.98      0.99      0.98       334\n",
      "        satan attack       0.98      1.00      0.99       195\n",
      "        smurf attack       1.00      0.97      0.98       120\n",
      "     teardrop attack       0.99      1.00      1.00       173\n",
      "  wazerclient attack       0.97      1.00      0.99       155\n",
      "\n",
      "            accuracy                           0.99      1668\n",
      "           macro avg       0.99      0.99      0.99      1668\n",
      "        weighted avg       0.99      0.99      0.98      1668\n",
      "\n"
     ]
    }
   ],
   "source": [
    "import sklearn.metrics\n",
    "print(sklearn.metrics.classification_report(y_test, y_pred))"
   ]
  },
  {
   "cell_type": "code",
   "execution_count": 18,
   "metadata": {},
   "outputs": [
    {
     "data": {
      "text/html": [
       "<style>#sk-container-id-3 {color: black;background-color: white;}#sk-container-id-3 pre{padding: 0;}#sk-container-id-3 div.sk-toggleable {background-color: white;}#sk-container-id-3 label.sk-toggleable__label {cursor: pointer;display: block;width: 100%;margin-bottom: 0;padding: 0.3em;box-sizing: border-box;text-align: center;}#sk-container-id-3 label.sk-toggleable__label-arrow:before {content: \"▸\";float: left;margin-right: 0.25em;color: #696969;}#sk-container-id-3 label.sk-toggleable__label-arrow:hover:before {color: black;}#sk-container-id-3 div.sk-estimator:hover label.sk-toggleable__label-arrow:before {color: black;}#sk-container-id-3 div.sk-toggleable__content {max-height: 0;max-width: 0;overflow: hidden;text-align: left;background-color: #f0f8ff;}#sk-container-id-3 div.sk-toggleable__content pre {margin: 0.2em;color: black;border-radius: 0.25em;background-color: #f0f8ff;}#sk-container-id-3 input.sk-toggleable__control:checked~div.sk-toggleable__content {max-height: 200px;max-width: 100%;overflow: auto;}#sk-container-id-3 input.sk-toggleable__control:checked~label.sk-toggleable__label-arrow:before {content: \"▾\";}#sk-container-id-3 div.sk-estimator input.sk-toggleable__control:checked~label.sk-toggleable__label {background-color: #d4ebff;}#sk-container-id-3 div.sk-label input.sk-toggleable__control:checked~label.sk-toggleable__label {background-color: #d4ebff;}#sk-container-id-3 input.sk-hidden--visually {border: 0;clip: rect(1px 1px 1px 1px);clip: rect(1px, 1px, 1px, 1px);height: 1px;margin: -1px;overflow: hidden;padding: 0;position: absolute;width: 1px;}#sk-container-id-3 div.sk-estimator {font-family: monospace;background-color: #f0f8ff;border: 1px dotted black;border-radius: 0.25em;box-sizing: border-box;margin-bottom: 0.5em;}#sk-container-id-3 div.sk-estimator:hover {background-color: #d4ebff;}#sk-container-id-3 div.sk-parallel-item::after {content: \"\";width: 100%;border-bottom: 1px solid gray;flex-grow: 1;}#sk-container-id-3 div.sk-label:hover label.sk-toggleable__label {background-color: #d4ebff;}#sk-container-id-3 div.sk-serial::before {content: \"\";position: absolute;border-left: 1px solid gray;box-sizing: border-box;top: 0;bottom: 0;left: 50%;z-index: 0;}#sk-container-id-3 div.sk-serial {display: flex;flex-direction: column;align-items: center;background-color: white;padding-right: 0.2em;padding-left: 0.2em;position: relative;}#sk-container-id-3 div.sk-item {position: relative;z-index: 1;}#sk-container-id-3 div.sk-parallel {display: flex;align-items: stretch;justify-content: center;background-color: white;position: relative;}#sk-container-id-3 div.sk-item::before, #sk-container-id-3 div.sk-parallel-item::before {content: \"\";position: absolute;border-left: 1px solid gray;box-sizing: border-box;top: 0;bottom: 0;left: 50%;z-index: -1;}#sk-container-id-3 div.sk-parallel-item {display: flex;flex-direction: column;z-index: 1;position: relative;background-color: white;}#sk-container-id-3 div.sk-parallel-item:first-child::after {align-self: flex-end;width: 50%;}#sk-container-id-3 div.sk-parallel-item:last-child::after {align-self: flex-start;width: 50%;}#sk-container-id-3 div.sk-parallel-item:only-child::after {width: 0;}#sk-container-id-3 div.sk-dashed-wrapped {border: 1px dashed gray;margin: 0 0.4em 0.5em 0.4em;box-sizing: border-box;padding-bottom: 0.4em;background-color: white;}#sk-container-id-3 div.sk-label label {font-family: monospace;font-weight: bold;display: inline-block;line-height: 1.2em;}#sk-container-id-3 div.sk-label-container {text-align: center;}#sk-container-id-3 div.sk-container {/* jupyter's `normalize.less` sets `[hidden] { display: none; }` but bootstrap.min.css set `[hidden] { display: none !important; }` so we also need the `!important` here to be able to override the default hidden behavior on the sphinx rendered scikit-learn.org. See: https://github.com/scikit-learn/scikit-learn/issues/21755 */display: inline-block !important;position: relative;}#sk-container-id-3 div.sk-text-repr-fallback {display: none;}</style><div id=\"sk-container-id-3\" class=\"sk-top-container\"><div class=\"sk-text-repr-fallback\"><pre>RandomForestClassifier(n_estimators=1, random_state=0)</pre><b>In a Jupyter environment, please rerun this cell to show the HTML representation or trust the notebook. <br />On GitHub, the HTML representation is unable to render, please try loading this page with nbviewer.org.</b></div><div class=\"sk-container\" hidden><div class=\"sk-item\"><div class=\"sk-estimator sk-toggleable\"><input class=\"sk-toggleable__control sk-hidden--visually\" id=\"sk-estimator-id-3\" type=\"checkbox\" checked><label for=\"sk-estimator-id-3\" class=\"sk-toggleable__label sk-toggleable__label-arrow\">RandomForestClassifier</label><div class=\"sk-toggleable__content\"><pre>RandomForestClassifier(n_estimators=1, random_state=0)</pre></div></div></div></div></div>"
      ],
      "text/plain": [
       "RandomForestClassifier(n_estimators=1, random_state=0)"
      ]
     },
     "execution_count": 18,
     "metadata": {},
     "output_type": "execute_result"
    }
   ],
   "source": [
    "from sklearn.ensemble import RandomForestClassifier\n",
    "classifier = RandomForestClassifier(n_estimators=1,random_state=0)\n",
    "classifier.fit(X_train, y_train)"
   ]
  },
  {
   "cell_type": "code",
   "execution_count": 19,
   "metadata": {},
   "outputs": [
    {
     "name": "stdout",
     "output_type": "stream",
     "text": [
      "                      precision    recall  f1-score   support\n",
      "\n",
      "         back attack       1.00      1.00      1.00        51\n",
      "guesspassword attack       1.00      1.00      1.00        16\n",
      "      ipsweep attack       0.98      0.97      0.97       241\n",
      "      neptune attack       1.00      0.98      0.99       168\n",
      "              normal       0.98      0.98      0.98       215\n",
      "    portsweep attack       0.98      0.99      0.98       334\n",
      "        satan attack       0.98      1.00      0.99       195\n",
      "        smurf attack       1.00      0.97      0.98       120\n",
      "     teardrop attack       0.99      1.00      1.00       173\n",
      "  wazerclient attack       0.97      1.00      0.99       155\n",
      "\n",
      "            accuracy                           0.99      1668\n",
      "           macro avg       0.99      0.99      0.99      1668\n",
      "        weighted avg       0.99      0.99      0.98      1668\n",
      "\n"
     ]
    }
   ],
   "source": [
    "import sklearn.metrics\n",
    "print(sklearn.metrics.classification_report(y_test, y_pred))\n"
   ]
  },
  {
   "cell_type": "code",
   "execution_count": 20,
   "metadata": {},
   "outputs": [
    {
     "data": {
      "text/plain": [
       "array([[ 51,   0,   0,   0,   0,   0,   0,   0,   0,   0],\n",
       "       [  0,  16,   0,   0,   0,   0,   0,   0,   0,   0],\n",
       "       [  0,   0, 233,   0,   4,   4,   0,   0,   0,   0],\n",
       "       [  0,   0,   0, 164,   0,   4,   0,   0,   0,   0],\n",
       "       [  0,   0,   0,   0, 210,   0,   0,   0,   1,   4],\n",
       "       [  0,   0,   0,   0,   0, 330,   4,   0,   0,   0],\n",
       "       [  0,   0,   0,   0,   0,   0, 195,   0,   0,   0],\n",
       "       [  0,   0,   4,   0,   0,   0,   0, 116,   0,   0],\n",
       "       [  0,   0,   0,   0,   0,   0,   0,   0, 173,   0],\n",
       "       [  0,   0,   0,   0,   0,   0,   0,   0,   0, 155]], dtype=int64)"
      ]
     },
     "execution_count": 20,
     "metadata": {},
     "output_type": "execute_result"
    }
   ],
   "source": [
    "from sklearn.metrics import confusion_matrix\n",
    "conf_matrix = confusion_matrix(y_test, y_pred)\n",
    "conf_matrix"
   ]
  },
  {
   "cell_type": "code",
   "execution_count": 22,
   "metadata": {},
   "outputs": [
    {
     "data": {
      "image/png": "[encoded data removed]",
      "text/plain": [
       "<Figure size 1000x800 with 2 Axes>"
      ]
     },
     "metadata": {},
     "output_type": "display_data"
    }
   ],
   "source": [
    "import seaborn as sns\n",
    "import matplotlib.pyplot as plt\n",
    "plt.figure(figsize=(10, 8))\n",
    "sns.heatmap(conf_matrix, annot=True, cmap='Blues', fmt='g', xticklabels=[...], yticklabels=[...])\n",
    "plt.xlabel('Predicted Labels')\n",
    "plt.ylabel('True Labels')\n",
    "plt.title('Confusion Matrix')\n",
    "plt.show()"
   ]
  },
  {
   "cell_type": "code",
   "execution_count": null,
   "metadata": {},
   "outputs": [],
   "source": []
  },
  {
   "cell_type": "code",
   "execution_count": null,
   "metadata": {},
   "outputs": [],
   "source": []
  },
  {
   "cell_type": "code",
   "execution_count": null,
   "metadata": {},
   "outputs": [],
   "source": []
  }
 ],
 "metadata": {
  "kernelspec": {
   "display_name": "Python 3",
   "language": "python",
   "name": "python3"
  },
  "language_info": {
   "codemirror_mode": {
    "name": "ipython",
    "version": 3
   },
   "file_extension": ".py",
   "mimetype": "text/x-python",
   "name": "python",
   "nbconvert_exporter": "python",
   "pygments_lexer": "ipython3",
   "version": "3.11.0"
  }
 },
 "nbformat": 4,
 "nbformat_minor": 2
}
